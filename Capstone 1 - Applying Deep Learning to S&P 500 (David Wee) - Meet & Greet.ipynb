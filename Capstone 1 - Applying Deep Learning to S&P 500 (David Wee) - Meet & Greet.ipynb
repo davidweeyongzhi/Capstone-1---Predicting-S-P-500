{
 "cells": [
  {
   "cell_type": "markdown",
   "metadata": {},
   "source": [
    "### Applying Deep Learning to S&P 500 \n",
    "  - [Data wrangling](#dw)\n",
    "  - [Quick analysis with Linear Regression](#LR)\n",
    "  - [Stationary tests](#stationary)\n",
    "  - [Applying LSTM on stationary data](#LSTM_sta)\n",
    "  - [Applying LSTM on non-stationary data](#LSTM_non-sta)"
   ]
  },
  {
   "cell_type": "markdown",
   "metadata": {},
   "source": [
    "---\n",
    "<a name='dw' ></a>\n",
    "### Data wrangling"
   ]
  },
  {
   "cell_type": "code",
   "execution_count": 1,
   "metadata": {},
   "outputs": [
    {
     "name": "stderr",
     "output_type": "stream",
     "text": [
      "Using TensorFlow backend.\n"
     ]
    }
   ],
   "source": [
    "# Import libraries\n",
    "import numpy as np\n",
    "import pandas as pd\n",
    "from math import sqrt\n",
    "\n",
    "from sklearn.metrics import mean_squared_error\n",
    "from sklearn.preprocessing import MinMaxScaler\n",
    "from sklearn.linear_model import LinearRegression\n",
    "from sklearn.model_selection import cross_val_score, cross_val_predict\n",
    "\n",
    "from keras.models import Sequential\n",
    "from keras.layers import Dense\n",
    "from keras.layers import LSTM\n",
    "\n",
    "import seaborn as sns\n",
    "import matplotlib.pyplot as plt\n",
    "%matplotlib inline\n",
    "\n",
    "from datetime import datetime as dt\n",
    "\n",
    "from statsmodels.tsa.seasonal import seasonal_decompose\n",
    "from statsmodels.tsa.stattools import adfuller"
   ]
  },
  {
   "cell_type": "code",
   "execution_count": 2,
   "metadata": {},
   "outputs": [
    {
     "data": {
      "text/html": [
       "<div>\n",
       "<style scoped>\n",
       "    .dataframe tbody tr th:only-of-type {\n",
       "        vertical-align: middle;\n",
       "    }\n",
       "\n",
       "    .dataframe tbody tr th {\n",
       "        vertical-align: top;\n",
       "    }\n",
       "\n",
       "    .dataframe thead th {\n",
       "        text-align: right;\n",
       "    }\n",
       "</style>\n",
       "<table border=\"1\" class=\"dataframe\">\n",
       "  <thead>\n",
       "    <tr style=\"text-align: right;\">\n",
       "      <th></th>\n",
       "      <th>Date</th>\n",
       "      <th>Open</th>\n",
       "      <th>High</th>\n",
       "      <th>Low</th>\n",
       "      <th>Close</th>\n",
       "      <th>Volume</th>\n",
       "      <th>Adj Close</th>\n",
       "    </tr>\n",
       "  </thead>\n",
       "  <tbody>\n",
       "    <tr>\n",
       "      <th>0</th>\n",
       "      <td>2017-03-24</td>\n",
       "      <td>2350.419922</td>\n",
       "      <td>2356.219971</td>\n",
       "      <td>2335.739990</td>\n",
       "      <td>2343.979980</td>\n",
       "      <td>2975130000</td>\n",
       "      <td>2343.979980</td>\n",
       "    </tr>\n",
       "    <tr>\n",
       "      <th>1</th>\n",
       "      <td>2017-03-23</td>\n",
       "      <td>2345.969971</td>\n",
       "      <td>2358.919922</td>\n",
       "      <td>2342.129883</td>\n",
       "      <td>2345.959961</td>\n",
       "      <td>3260600000</td>\n",
       "      <td>2345.959961</td>\n",
       "    </tr>\n",
       "    <tr>\n",
       "      <th>2</th>\n",
       "      <td>2017-03-22</td>\n",
       "      <td>2343.000000</td>\n",
       "      <td>2351.810059</td>\n",
       "      <td>2336.449951</td>\n",
       "      <td>2348.449951</td>\n",
       "      <td>3572730000</td>\n",
       "      <td>2348.449951</td>\n",
       "    </tr>\n",
       "    <tr>\n",
       "      <th>3</th>\n",
       "      <td>2017-03-21</td>\n",
       "      <td>2379.320068</td>\n",
       "      <td>2381.929932</td>\n",
       "      <td>2341.899902</td>\n",
       "      <td>2344.020020</td>\n",
       "      <td>4265590000</td>\n",
       "      <td>2344.020020</td>\n",
       "    </tr>\n",
       "    <tr>\n",
       "      <th>4</th>\n",
       "      <td>2017-03-20</td>\n",
       "      <td>2378.239990</td>\n",
       "      <td>2379.550049</td>\n",
       "      <td>2369.659912</td>\n",
       "      <td>2373.469971</td>\n",
       "      <td>3054930000</td>\n",
       "      <td>2373.469971</td>\n",
       "    </tr>\n",
       "  </tbody>\n",
       "</table>\n",
       "</div>"
      ],
      "text/plain": [
       "         Date         Open         High          Low        Close      Volume  \\\n",
       "0  2017-03-24  2350.419922  2356.219971  2335.739990  2343.979980  2975130000   \n",
       "1  2017-03-23  2345.969971  2358.919922  2342.129883  2345.959961  3260600000   \n",
       "2  2017-03-22  2343.000000  2351.810059  2336.449951  2348.449951  3572730000   \n",
       "3  2017-03-21  2379.320068  2381.929932  2341.899902  2344.020020  4265590000   \n",
       "4  2017-03-20  2378.239990  2379.550049  2369.659912  2373.469971  3054930000   \n",
       "\n",
       "     Adj Close  \n",
       "0  2343.979980  \n",
       "1  2345.959961  \n",
       "2  2348.449951  \n",
       "3  2344.020020  \n",
       "4  2373.469971  "
      ]
     },
     "execution_count": 2,
     "metadata": {},
     "output_type": "execute_result"
    }
   ],
   "source": [
    "# Data Munging\n",
    "sp500 = pd.read_csv('S&P.csv')\n",
    "sp500.head()"
   ]
  },
  {
   "cell_type": "code",
   "execution_count": 3,
   "metadata": {},
   "outputs": [
    {
     "data": {
      "text/html": [
       "<div>\n",
       "<style scoped>\n",
       "    .dataframe tbody tr th:only-of-type {\n",
       "        vertical-align: middle;\n",
       "    }\n",
       "\n",
       "    .dataframe tbody tr th {\n",
       "        vertical-align: top;\n",
       "    }\n",
       "\n",
       "    .dataframe thead th {\n",
       "        text-align: right;\n",
       "    }\n",
       "</style>\n",
       "<table border=\"1\" class=\"dataframe\">\n",
       "  <thead>\n",
       "    <tr style=\"text-align: right;\">\n",
       "      <th></th>\n",
       "      <th>Date</th>\n",
       "      <th>Open</th>\n",
       "      <th>High</th>\n",
       "      <th>Low</th>\n",
       "      <th>Close</th>\n",
       "      <th>Volume</th>\n",
       "      <th>Adj Close</th>\n",
       "    </tr>\n",
       "  </thead>\n",
       "  <tbody>\n",
       "    <tr>\n",
       "      <th>15115</th>\n",
       "      <td>1957-03-08</td>\n",
       "      <td>44.070000</td>\n",
       "      <td>44.070000</td>\n",
       "      <td>44.070000</td>\n",
       "      <td>44.070000</td>\n",
       "      <td>1630000</td>\n",
       "      <td>44.070000</td>\n",
       "    </tr>\n",
       "    <tr>\n",
       "      <th>15116</th>\n",
       "      <td>1957-03-07</td>\n",
       "      <td>44.209999</td>\n",
       "      <td>44.209999</td>\n",
       "      <td>44.209999</td>\n",
       "      <td>44.209999</td>\n",
       "      <td>1830000</td>\n",
       "      <td>44.209999</td>\n",
       "    </tr>\n",
       "    <tr>\n",
       "      <th>15117</th>\n",
       "      <td>1957-03-06</td>\n",
       "      <td>44.230000</td>\n",
       "      <td>44.230000</td>\n",
       "      <td>44.230000</td>\n",
       "      <td>44.230000</td>\n",
       "      <td>1840000</td>\n",
       "      <td>44.230000</td>\n",
       "    </tr>\n",
       "    <tr>\n",
       "      <th>15118</th>\n",
       "      <td>1957-03-05</td>\n",
       "      <td>44.220001</td>\n",
       "      <td>44.220001</td>\n",
       "      <td>44.220001</td>\n",
       "      <td>44.220001</td>\n",
       "      <td>1860000</td>\n",
       "      <td>44.220001</td>\n",
       "    </tr>\n",
       "    <tr>\n",
       "      <th>15119</th>\n",
       "      <td>1957-03-04</td>\n",
       "      <td>44.060001</td>\n",
       "      <td>44.060001</td>\n",
       "      <td>44.060001</td>\n",
       "      <td>44.060001</td>\n",
       "      <td>1890000</td>\n",
       "      <td>44.060001</td>\n",
       "    </tr>\n",
       "  </tbody>\n",
       "</table>\n",
       "</div>"
      ],
      "text/plain": [
       "             Date       Open       High        Low      Close   Volume  \\\n",
       "15115  1957-03-08  44.070000  44.070000  44.070000  44.070000  1630000   \n",
       "15116  1957-03-07  44.209999  44.209999  44.209999  44.209999  1830000   \n",
       "15117  1957-03-06  44.230000  44.230000  44.230000  44.230000  1840000   \n",
       "15118  1957-03-05  44.220001  44.220001  44.220001  44.220001  1860000   \n",
       "15119  1957-03-04  44.060001  44.060001  44.060001  44.060001  1890000   \n",
       "\n",
       "       Adj Close  \n",
       "15115  44.070000  \n",
       "15116  44.209999  \n",
       "15117  44.230000  \n",
       "15118  44.220001  \n",
       "15119  44.060001  "
      ]
     },
     "execution_count": 3,
     "metadata": {},
     "output_type": "execute_result"
    }
   ],
   "source": [
    "sp500.tail()"
   ]
  },
  {
   "cell_type": "code",
   "execution_count": 4,
   "metadata": {},
   "outputs": [
    {
     "data": {
      "text/plain": [
       "(15120, 7)"
      ]
     },
     "execution_count": 4,
     "metadata": {},
     "output_type": "execute_result"
    }
   ],
   "source": [
    "sp500.shape"
   ]
  },
  {
   "cell_type": "code",
   "execution_count": 5,
   "metadata": {},
   "outputs": [],
   "source": [
    "sp500.columns = sp500.columns.str.strip().str.lower()"
   ]
  },
  {
   "cell_type": "code",
   "execution_count": 6,
   "metadata": {},
   "outputs": [
    {
     "name": "stdout",
     "output_type": "stream",
     "text": [
      "<class 'pandas.core.frame.DataFrame'>\n",
      "RangeIndex: 15120 entries, 0 to 15119\n",
      "Data columns (total 7 columns):\n",
      "date         15120 non-null object\n",
      "open         15120 non-null float64\n",
      "high         15120 non-null float64\n",
      "low          15120 non-null float64\n",
      "close        15120 non-null float64\n",
      "volume       15120 non-null int64\n",
      "adj close    15120 non-null float64\n",
      "dtypes: float64(5), int64(1), object(1)\n",
      "memory usage: 827.0+ KB\n"
     ]
    }
   ],
   "source": [
    "sp500.info()"
   ]
  },
  {
   "cell_type": "code",
   "execution_count": 7,
   "metadata": {},
   "outputs": [
    {
     "data": {
      "text/plain": [
       "(15120,)"
      ]
     },
     "execution_count": 7,
     "metadata": {},
     "output_type": "execute_result"
    }
   ],
   "source": [
    "sp500.date.unique().shape"
   ]
  },
  {
   "cell_type": "code",
   "execution_count": 8,
   "metadata": {},
   "outputs": [],
   "source": [
    "sp500['date']=sp500['date'].apply(lambda x: dt.strptime(x,'%Y-%m-%d'))\n",
    "# Note: y for 2digit yeardate, Y for 4digit yeardate."
   ]
  },
  {
   "cell_type": "code",
   "execution_count": 9,
   "metadata": {},
   "outputs": [],
   "source": [
    "sp500.set_index('date',inplace=True)"
   ]
  },
  {
   "cell_type": "code",
   "execution_count": 10,
   "metadata": {},
   "outputs": [],
   "source": [
    "sp500.sort_index(ascending=True,inplace=True)"
   ]
  },
  {
   "cell_type": "code",
   "execution_count": 11,
   "metadata": {},
   "outputs": [
    {
     "data": {
      "text/html": [
       "<div>\n",
       "<style scoped>\n",
       "    .dataframe tbody tr th:only-of-type {\n",
       "        vertical-align: middle;\n",
       "    }\n",
       "\n",
       "    .dataframe tbody tr th {\n",
       "        vertical-align: top;\n",
       "    }\n",
       "\n",
       "    .dataframe thead th {\n",
       "        text-align: right;\n",
       "    }\n",
       "</style>\n",
       "<table border=\"1\" class=\"dataframe\">\n",
       "  <thead>\n",
       "    <tr style=\"text-align: right;\">\n",
       "      <th></th>\n",
       "      <th>open</th>\n",
       "      <th>high</th>\n",
       "      <th>low</th>\n",
       "      <th>close</th>\n",
       "      <th>volume</th>\n",
       "      <th>adj close</th>\n",
       "    </tr>\n",
       "    <tr>\n",
       "      <th>date</th>\n",
       "      <th></th>\n",
       "      <th></th>\n",
       "      <th></th>\n",
       "      <th></th>\n",
       "      <th></th>\n",
       "      <th></th>\n",
       "    </tr>\n",
       "  </thead>\n",
       "  <tbody>\n",
       "    <tr>\n",
       "      <th>1957-03-04</th>\n",
       "      <td>44.060001</td>\n",
       "      <td>44.060001</td>\n",
       "      <td>44.060001</td>\n",
       "      <td>44.060001</td>\n",
       "      <td>1890000</td>\n",
       "      <td>44.060001</td>\n",
       "    </tr>\n",
       "    <tr>\n",
       "      <th>1957-03-05</th>\n",
       "      <td>44.220001</td>\n",
       "      <td>44.220001</td>\n",
       "      <td>44.220001</td>\n",
       "      <td>44.220001</td>\n",
       "      <td>1860000</td>\n",
       "      <td>44.220001</td>\n",
       "    </tr>\n",
       "    <tr>\n",
       "      <th>1957-03-06</th>\n",
       "      <td>44.230000</td>\n",
       "      <td>44.230000</td>\n",
       "      <td>44.230000</td>\n",
       "      <td>44.230000</td>\n",
       "      <td>1840000</td>\n",
       "      <td>44.230000</td>\n",
       "    </tr>\n",
       "    <tr>\n",
       "      <th>1957-03-07</th>\n",
       "      <td>44.209999</td>\n",
       "      <td>44.209999</td>\n",
       "      <td>44.209999</td>\n",
       "      <td>44.209999</td>\n",
       "      <td>1830000</td>\n",
       "      <td>44.209999</td>\n",
       "    </tr>\n",
       "    <tr>\n",
       "      <th>1957-03-08</th>\n",
       "      <td>44.070000</td>\n",
       "      <td>44.070000</td>\n",
       "      <td>44.070000</td>\n",
       "      <td>44.070000</td>\n",
       "      <td>1630000</td>\n",
       "      <td>44.070000</td>\n",
       "    </tr>\n",
       "  </tbody>\n",
       "</table>\n",
       "</div>"
      ],
      "text/plain": [
       "                 open       high        low      close   volume  adj close\n",
       "date                                                                      \n",
       "1957-03-04  44.060001  44.060001  44.060001  44.060001  1890000  44.060001\n",
       "1957-03-05  44.220001  44.220001  44.220001  44.220001  1860000  44.220001\n",
       "1957-03-06  44.230000  44.230000  44.230000  44.230000  1840000  44.230000\n",
       "1957-03-07  44.209999  44.209999  44.209999  44.209999  1830000  44.209999\n",
       "1957-03-08  44.070000  44.070000  44.070000  44.070000  1630000  44.070000"
      ]
     },
     "execution_count": 11,
     "metadata": {},
     "output_type": "execute_result"
    }
   ],
   "source": [
    "sp500.head()"
   ]
  },
  {
   "cell_type": "code",
   "execution_count": 12,
   "metadata": {},
   "outputs": [
    {
     "data": {
      "text/html": [
       "<div>\n",
       "<style scoped>\n",
       "    .dataframe tbody tr th:only-of-type {\n",
       "        vertical-align: middle;\n",
       "    }\n",
       "\n",
       "    .dataframe tbody tr th {\n",
       "        vertical-align: top;\n",
       "    }\n",
       "\n",
       "    .dataframe thead th {\n",
       "        text-align: right;\n",
       "    }\n",
       "</style>\n",
       "<table border=\"1\" class=\"dataframe\">\n",
       "  <thead>\n",
       "    <tr style=\"text-align: right;\">\n",
       "      <th></th>\n",
       "      <th>open</th>\n",
       "      <th>high</th>\n",
       "      <th>low</th>\n",
       "      <th>close</th>\n",
       "      <th>volume</th>\n",
       "      <th>adj close</th>\n",
       "    </tr>\n",
       "    <tr>\n",
       "      <th>date</th>\n",
       "      <th></th>\n",
       "      <th></th>\n",
       "      <th></th>\n",
       "      <th></th>\n",
       "      <th></th>\n",
       "      <th></th>\n",
       "    </tr>\n",
       "  </thead>\n",
       "  <tbody>\n",
       "    <tr>\n",
       "      <th>2017-03-20</th>\n",
       "      <td>2378.239990</td>\n",
       "      <td>2379.550049</td>\n",
       "      <td>2369.659912</td>\n",
       "      <td>2373.469971</td>\n",
       "      <td>3054930000</td>\n",
       "      <td>2373.469971</td>\n",
       "    </tr>\n",
       "    <tr>\n",
       "      <th>2017-03-21</th>\n",
       "      <td>2379.320068</td>\n",
       "      <td>2381.929932</td>\n",
       "      <td>2341.899902</td>\n",
       "      <td>2344.020020</td>\n",
       "      <td>4265590000</td>\n",
       "      <td>2344.020020</td>\n",
       "    </tr>\n",
       "    <tr>\n",
       "      <th>2017-03-22</th>\n",
       "      <td>2343.000000</td>\n",
       "      <td>2351.810059</td>\n",
       "      <td>2336.449951</td>\n",
       "      <td>2348.449951</td>\n",
       "      <td>3572730000</td>\n",
       "      <td>2348.449951</td>\n",
       "    </tr>\n",
       "    <tr>\n",
       "      <th>2017-03-23</th>\n",
       "      <td>2345.969971</td>\n",
       "      <td>2358.919922</td>\n",
       "      <td>2342.129883</td>\n",
       "      <td>2345.959961</td>\n",
       "      <td>3260600000</td>\n",
       "      <td>2345.959961</td>\n",
       "    </tr>\n",
       "    <tr>\n",
       "      <th>2017-03-24</th>\n",
       "      <td>2350.419922</td>\n",
       "      <td>2356.219971</td>\n",
       "      <td>2335.739990</td>\n",
       "      <td>2343.979980</td>\n",
       "      <td>2975130000</td>\n",
       "      <td>2343.979980</td>\n",
       "    </tr>\n",
       "  </tbody>\n",
       "</table>\n",
       "</div>"
      ],
      "text/plain": [
       "                   open         high          low        close      volume  \\\n",
       "date                                                                         \n",
       "2017-03-20  2378.239990  2379.550049  2369.659912  2373.469971  3054930000   \n",
       "2017-03-21  2379.320068  2381.929932  2341.899902  2344.020020  4265590000   \n",
       "2017-03-22  2343.000000  2351.810059  2336.449951  2348.449951  3572730000   \n",
       "2017-03-23  2345.969971  2358.919922  2342.129883  2345.959961  3260600000   \n",
       "2017-03-24  2350.419922  2356.219971  2335.739990  2343.979980  2975130000   \n",
       "\n",
       "              adj close  \n",
       "date                     \n",
       "2017-03-20  2373.469971  \n",
       "2017-03-21  2344.020020  \n",
       "2017-03-22  2348.449951  \n",
       "2017-03-23  2345.959961  \n",
       "2017-03-24  2343.979980  "
      ]
     },
     "execution_count": 12,
     "metadata": {},
     "output_type": "execute_result"
    }
   ],
   "source": [
    "sp500.tail()"
   ]
  },
  {
   "cell_type": "code",
   "execution_count": 13,
   "metadata": {},
   "outputs": [
    {
     "name": "stdout",
     "output_type": "stream",
     "text": [
      "<class 'pandas.core.frame.DataFrame'>\n",
      "DatetimeIndex: 15120 entries, 1957-03-04 to 2017-03-24\n",
      "Data columns (total 6 columns):\n",
      "open         15120 non-null float64\n",
      "high         15120 non-null float64\n",
      "low          15120 non-null float64\n",
      "close        15120 non-null float64\n",
      "volume       15120 non-null int64\n",
      "adj close    15120 non-null float64\n",
      "dtypes: float64(5), int64(1)\n",
      "memory usage: 826.9 KB\n"
     ]
    }
   ],
   "source": [
    "sp500.info()"
   ]
  },
  {
   "cell_type": "code",
   "execution_count": 14,
   "metadata": {},
   "outputs": [],
   "source": [
    "sp500.rename(columns={'adj close': 'adj_close'},inplace=True)"
   ]
  },
  {
   "cell_type": "code",
   "execution_count": 15,
   "metadata": {},
   "outputs": [],
   "source": [
    "sp500.drop(['open','high','low','close','volume'],axis=1,inplace=True)"
   ]
  },
  {
   "cell_type": "code",
   "execution_count": 16,
   "metadata": {},
   "outputs": [
    {
     "data": {
      "text/html": [
       "<div>\n",
       "<style scoped>\n",
       "    .dataframe tbody tr th:only-of-type {\n",
       "        vertical-align: middle;\n",
       "    }\n",
       "\n",
       "    .dataframe tbody tr th {\n",
       "        vertical-align: top;\n",
       "    }\n",
       "\n",
       "    .dataframe thead th {\n",
       "        text-align: right;\n",
       "    }\n",
       "</style>\n",
       "<table border=\"1\" class=\"dataframe\">\n",
       "  <thead>\n",
       "    <tr style=\"text-align: right;\">\n",
       "      <th></th>\n",
       "      <th>adj_close</th>\n",
       "    </tr>\n",
       "    <tr>\n",
       "      <th>date</th>\n",
       "      <th></th>\n",
       "    </tr>\n",
       "  </thead>\n",
       "  <tbody>\n",
       "    <tr>\n",
       "      <th>1957-03-04</th>\n",
       "      <td>44.060001</td>\n",
       "    </tr>\n",
       "    <tr>\n",
       "      <th>1957-03-05</th>\n",
       "      <td>44.220001</td>\n",
       "    </tr>\n",
       "    <tr>\n",
       "      <th>1957-03-06</th>\n",
       "      <td>44.230000</td>\n",
       "    </tr>\n",
       "    <tr>\n",
       "      <th>1957-03-07</th>\n",
       "      <td>44.209999</td>\n",
       "    </tr>\n",
       "    <tr>\n",
       "      <th>1957-03-08</th>\n",
       "      <td>44.070000</td>\n",
       "    </tr>\n",
       "  </tbody>\n",
       "</table>\n",
       "</div>"
      ],
      "text/plain": [
       "            adj_close\n",
       "date                 \n",
       "1957-03-04  44.060001\n",
       "1957-03-05  44.220001\n",
       "1957-03-06  44.230000\n",
       "1957-03-07  44.209999\n",
       "1957-03-08  44.070000"
      ]
     },
     "execution_count": 16,
     "metadata": {},
     "output_type": "execute_result"
    }
   ],
   "source": [
    "sp500.head()"
   ]
  },
  {
   "cell_type": "code",
   "execution_count": 17,
   "metadata": {},
   "outputs": [
    {
     "data": {
      "image/png": "[encoded data removed]",
      "text/plain": [
       "<Figure size 432x288 with 1 Axes>"
      ]
     },
     "metadata": {
      "needs_background": "light"
     },
     "output_type": "display_data"
    }
   ],
   "source": [
    "sp500.plot()\n",
    "plt.title('S&P 500 daily index levels')\n",
    "plt.show()"
   ]
  },
  {
   "cell_type": "code",
   "execution_count": 18,
   "metadata": {},
   "outputs": [
    {
     "data": {
      "text/html": [
       "<div>\n",
       "<style scoped>\n",
       "    .dataframe tbody tr th:only-of-type {\n",
       "        vertical-align: middle;\n",
       "    }\n",
       "\n",
       "    .dataframe tbody tr th {\n",
       "        vertical-align: top;\n",
       "    }\n",
       "\n",
       "    .dataframe thead th {\n",
       "        text-align: right;\n",
       "    }\n",
       "</style>\n",
       "<table border=\"1\" class=\"dataframe\">\n",
       "  <thead>\n",
       "    <tr style=\"text-align: right;\">\n",
       "      <th></th>\n",
       "      <th>adj_close</th>\n",
       "    </tr>\n",
       "  </thead>\n",
       "  <tbody>\n",
       "    <tr>\n",
       "      <th>count</th>\n",
       "      <td>15120.000000</td>\n",
       "    </tr>\n",
       "    <tr>\n",
       "      <th>mean</th>\n",
       "      <td>572.036051</td>\n",
       "    </tr>\n",
       "    <tr>\n",
       "      <th>std</th>\n",
       "      <td>603.857573</td>\n",
       "    </tr>\n",
       "    <tr>\n",
       "      <th>min</th>\n",
       "      <td>38.980000</td>\n",
       "    </tr>\n",
       "    <tr>\n",
       "      <th>25%</th>\n",
       "      <td>95.367503</td>\n",
       "    </tr>\n",
       "    <tr>\n",
       "      <th>50%</th>\n",
       "      <td>252.200004</td>\n",
       "    </tr>\n",
       "    <tr>\n",
       "      <th>75%</th>\n",
       "      <td>1106.377502</td>\n",
       "    </tr>\n",
       "    <tr>\n",
       "      <th>max</th>\n",
       "      <td>2395.959961</td>\n",
       "    </tr>\n",
       "  </tbody>\n",
       "</table>\n",
       "</div>"
      ],
      "text/plain": [
       "          adj_close\n",
       "count  15120.000000\n",
       "mean     572.036051\n",
       "std      603.857573\n",
       "min       38.980000\n",
       "25%       95.367503\n",
       "50%      252.200004\n",
       "75%     1106.377502\n",
       "max     2395.959961"
      ]
     },
     "execution_count": 18,
     "metadata": {},
     "output_type": "execute_result"
    }
   ],
   "source": [
    "sp500.describe()"
   ]
  },
  {
   "cell_type": "markdown",
   "metadata": {},
   "source": [
    "---\n",
    "<a name='LR'></a>\n",
    "### Linear Regression"
   ]
  },
  {
   "cell_type": "code",
   "execution_count": 19,
   "metadata": {},
   "outputs": [],
   "source": [
    "# Linear Regression (train:test=7:3, ignore stationarity)\n",
    "train_size=int(len(sp500)*0.7)\n",
    "test_size=len(sp500)-train_size"
   ]
  },
  {
   "cell_type": "code",
   "execution_count": 20,
   "metadata": {},
   "outputs": [],
   "source": [
    "train,test=sp500[0:train_size],sp500[train_size:]"
   ]
  },
  {
   "cell_type": "code",
   "execution_count": 21,
   "metadata": {},
   "outputs": [],
   "source": [
    "X_data = sp500[:-1]\n",
    "y_data = sp500[1:]"
   ]
  },
  {
   "cell_type": "code",
   "execution_count": 22,
   "metadata": {},
   "outputs": [],
   "source": [
    "X_train = pd.DataFrame(X_data[0:train_size])\n",
    "X_test = pd.DataFrame(X_data[train_size:])\n",
    "y_train = y_data[0:train_size].values\n",
    "y_test = y_data[train_size:].values"
   ]
  },
  {
   "cell_type": "code",
   "execution_count": 23,
   "metadata": {},
   "outputs": [
    {
     "name": "stdout",
     "output_type": "stream",
     "text": [
      "Score: 1.00\n"
     ]
    }
   ],
   "source": [
    "lr = LinearRegression()\n",
    "lr_mod = lr.fit(X_train,y_train)\n",
    "print('Score: %.2f' % lr.score(X_test,y_test))"
   ]
  },
  {
   "cell_type": "code",
   "execution_count": 24,
   "metadata": {},
   "outputs": [],
   "source": [
    "trainPredict = lr.predict(X_train)\n",
    "testPredict = lr.predict(X_test)"
   ]
  },
  {
   "cell_type": "code",
   "execution_count": 25,
   "metadata": {},
   "outputs": [],
   "source": [
    "# y_test.reset_index(drop=True,inplace=True)\n",
    "actual_vs_pred = pd.concat([pd.DataFrame(y_test),pd.DataFrame(testPredict)],axis=1)\n",
    "actual_vs_pred.columns=['actual','predict']"
   ]
  },
  {
   "cell_type": "code",
   "execution_count": 26,
   "metadata": {},
   "outputs": [
    {
     "data": {
      "text/plain": [
       "Text(0.5, 1.0, 'Daily Predictions')"
      ]
     },
     "execution_count": 26,
     "metadata": {},
     "output_type": "execute_result"
    },
    {
     "data": {
      "image/png": "[encoded data removed]",
      "text/plain": [
       "<Figure size 360x360 with 1 Axes>"
      ]
     },
     "metadata": {
      "needs_background": "light"
     },
     "output_type": "display_data"
    }
   ],
   "source": [
    "sns.lmplot(data=actual_vs_pred,x='predict',y='actual')\n",
    "ax = plt.gca()\n",
    "ax.set_title('Daily Predictions')"
   ]
  },
  {
   "cell_type": "code",
   "execution_count": 27,
   "metadata": {},
   "outputs": [
    {
     "name": "stdout",
     "output_type": "stream",
     "text": [
      "Train Score for Linear Regression: 3.37 RMSE\n",
      "Test Score for Linear Regression: 15.12 RMSE\n"
     ]
    }
   ],
   "source": [
    "# Calculate root mean squared error (linear regression)\n",
    "from sklearn.metrics import mean_squared_error\n",
    "trainScore = np.sqrt(mean_squared_error(y_train, trainPredict))\n",
    "print('Train Score for Linear Regression: %.2f RMSE' % (trainScore))\n",
    "testScore = np.sqrt(mean_squared_error(y_test, testPredict))\n",
    "print('Test Score for Linear Regression: %.2f RMSE' % (testScore))"
   ]
  },
  {
   "cell_type": "code",
   "execution_count": 28,
   "metadata": {},
   "outputs": [],
   "source": [
    "# Test Score for Linear Regression will be used as baseline."
   ]
  },
  {
   "cell_type": "code",
   "execution_count": 29,
   "metadata": {},
   "outputs": [
    {
     "name": "stdout",
     "output_type": "stream",
     "text": [
      "Score: 0.99\n",
      "Train Score for Linear Regression: 7.29 RMSE\n",
      "Test Score for Linear Regression: 31.48 RMSE\n"
     ]
    },
    {
     "data": {
      "text/plain": [
       "Text(0.5, 1.0, 'Weekly Predictions')"
      ]
     },
     "execution_count": 29,
     "metadata": {},
     "output_type": "execute_result"
    },
    {
     "data": {
      "image/png": "[encoded data removed]",
      "text/plain": [
       "<Figure size 360x360 with 1 Axes>"
      ]
     },
     "metadata": {
      "needs_background": "light"
     },
     "output_type": "display_data"
    }
   ],
   "source": [
    "# LR (predict weekly)\n",
    "actual_wk = sp500['adj_close'][:-5]\n",
    "predict_wk = sp500['adj_close'][5:].values\n",
    "\n",
    "train_size=int(len(actual_wk)*0.7)\n",
    "test_size=len(actual_wk)-train_size\n",
    "\n",
    "X_train=pd.DataFrame(actual_wk[:-test_size])\n",
    "X_test=pd.DataFrame(actual_wk[train_size:])\n",
    "\n",
    "y_train=predict_wk[:-test_size]\n",
    "y_test=predict_wk[train_size:]\n",
    "\n",
    "lr = LinearRegression()\n",
    "lr_mod = lr.fit(X_train,y_train)\n",
    "print('Score: %.2f' % lr.score(X_test,y_test))\n",
    "\n",
    "trainPredict = lr.predict(X_train)\n",
    "testPredict = lr.predict(X_test)\n",
    "\n",
    "trainScore = np.sqrt(mean_squared_error(y_train, trainPredict))\n",
    "print('Train Score for Linear Regression: %.2f RMSE' % (trainScore))\n",
    "testScore = np.sqrt(mean_squared_error(y_test, testPredict))\n",
    "print('Test Score for Linear Regression: %.2f RMSE' % (testScore))\n",
    "\n",
    "actual_wk.reset_index(drop=True,inplace=True)\n",
    "actual_vs_pred=pd.concat([pd.Series(actual_wk),pd.Series(predict_wk)],axis=1)\n",
    "actual_vs_pred.columns=['actual','predict']\n",
    "\n",
    "sns.lmplot(data=actual_vs_pred,x='predict',y='actual')\n",
    "ax = plt.gca()\n",
    "ax.set_title('Weekly Predictions')\n",
    "\n",
    "# RMSE slightly worse off compared to daily predictions."
   ]
  },
  {
   "cell_type": "code",
   "execution_count": 30,
   "metadata": {},
   "outputs": [
    {
     "name": "stdout",
     "output_type": "stream",
     "text": [
      "Score: 0.97\n",
      "Train Score for Linear Regression: 13.39 RMSE\n",
      "Test Score for Linear Regression: 60.18 RMSE\n"
     ]
    },
    {
     "data": {
      "text/plain": [
       "Text(0.5, 1.0, 'Monthly Predictions')"
      ]
     },
     "execution_count": 30,
     "metadata": {},
     "output_type": "execute_result"
    },
    {
     "data": {
      "image/png": "[encoded data removed]",
      "text/plain": [
       "<Figure size 360x360 with 1 Axes>"
      ]
     },
     "metadata": {
      "needs_background": "light"
     },
     "output_type": "display_data"
    }
   ],
   "source": [
    "# Linear Regression (predict monthly)\n",
    "actual_mth = sp500['adj_close'][:-20]\n",
    "predict_mth = sp500['adj_close'][20:].values\n",
    "\n",
    "train_size=int(len(actual_mth)*0.7)\n",
    "test_size=len(actual_mth)-train_size\n",
    "\n",
    "X_train=pd.DataFrame(actual_mth[:-test_size])\n",
    "X_test=pd.DataFrame(actual_mth[train_size:])\n",
    "\n",
    "y_train=predict_mth[:-test_size]\n",
    "y_test=predict_mth[train_size:]\n",
    "\n",
    "lr = LinearRegression()\n",
    "lr_mod = lr.fit(X_train,y_train)\n",
    "print('Score: %.2f' % lr.score(X_test,y_test))\n",
    "\n",
    "trainPredict = lr.predict(X_train)\n",
    "testPredict = lr.predict(X_test)\n",
    "\n",
    "trainScore = np.sqrt(mean_squared_error(y_train, trainPredict))\n",
    "print('Train Score for Linear Regression: %.2f RMSE' % (trainScore))\n",
    "testScore = np.sqrt(mean_squared_error(y_test, testPredict))\n",
    "print('Test Score for Linear Regression: %.2f RMSE' % (testScore))\n",
    "\n",
    "actual_mth.reset_index(drop=True,inplace=True)\n",
    "actual_vs_pred=pd.concat([pd.Series(actual_mth),pd.Series(predict_mth)],axis=1)\n",
    "actual_vs_pred.columns=['actual','predict']\n",
    "\n",
    "sns.lmplot(data=actual_vs_pred,x='predict',y='actual')\n",
    "ax = plt.gca()\n",
    "ax.set_title('Monthly Predictions')\n",
    "\n",
    "# RMSE got worse."
   ]
  },
  {
   "cell_type": "code",
   "execution_count": 31,
   "metadata": {},
   "outputs": [
    {
     "name": "stdout",
     "output_type": "stream",
     "text": [
      "Score: 0.23\n",
      "Train Score for Linear Regression: 35.53 RMSE\n",
      "Test Score for Linear Regression: 323.58 RMSE\n"
     ]
    },
    {
     "data": {
      "text/plain": [
       "Text(0.5, 1.0, 'Yearly Predictions')"
      ]
     },
     "execution_count": 31,
     "metadata": {},
     "output_type": "execute_result"
    },
    {
     "data": {
      "image/png": "[encoded data removed]",
      "text/plain": [
       "<Figure size 360x360 with 1 Axes>"
      ]
     },
     "metadata": {
      "needs_background": "light"
     },
     "output_type": "display_data"
    }
   ],
   "source": [
    "# Linear Regression (predict yearly)\n",
    "actual_yr = sp500['adj_close'][:-252]\n",
    "predict_yr = sp500['adj_close'][252:].values\n",
    "\n",
    "train_size=int(len(actual_yr)*0.7)\n",
    "test_size=len(actual_yr)-train_size\n",
    "\n",
    "X_train=pd.DataFrame(actual_yr[:-test_size])\n",
    "X_test=pd.DataFrame(actual_yr[train_size:])\n",
    "\n",
    "y_train=predict_yr[:-test_size]\n",
    "y_test=predict_yr[train_size:]\n",
    "\n",
    "lr = LinearRegression()\n",
    "lr_mod = lr.fit(X_train,y_train)\n",
    "print('Score: %.2f' % lr.score(X_test,y_test))\n",
    "\n",
    "trainPredict = lr.predict(X_train)\n",
    "testPredict = lr.predict(X_test)\n",
    "\n",
    "trainScore = np.sqrt(mean_squared_error(y_train, trainPredict))\n",
    "print('Train Score for Linear Regression: %.2f RMSE' % (trainScore))\n",
    "testScore = np.sqrt(mean_squared_error(y_test, testPredict))\n",
    "print('Test Score for Linear Regression: %.2f RMSE' % (testScore))\n",
    "\n",
    "actual_yr.reset_index(drop=True,inplace=True)\n",
    "actual_vs_pred=pd.concat([pd.Series(actual_yr),pd.Series(predict_yr)],axis=1)\n",
    "actual_vs_pred.columns=['actual','predict']\n",
    "\n",
    "sns.lmplot(data=actual_vs_pred,x='predict',y='actual')\n",
    "ax = plt.gca()\n",
    "ax.set_title('Yearly Predictions')\n",
    "\n",
    "# Yearly Predictions are terrible."
   ]
  },
  {
   "cell_type": "markdown",
   "metadata": {},
   "source": [
    "---\n",
    "<a name='stationary'></a>\n",
    "### Stationarity tests"
   ]
  },
  {
   "cell_type": "code",
   "execution_count": 32,
   "metadata": {},
   "outputs": [
    {
     "data": {
      "image/png": "[encoded data removed]",
      "text/plain": [
       "<Figure size 432x288 with 4 Axes>"
      ]
     },
     "metadata": {
      "needs_background": "light"
     },
     "output_type": "display_data"
    }
   ],
   "source": [
    "res=seasonal_decompose(sp500['adj_close'],freq=252,model='addictive') # Assume 252 trading days a year\n",
    "res.plot()\n",
    "plt.xticks(rotation=0)\n",
    "\n",
    "plt.show()\n",
    "# plt.savefig('chart1.pdf',format='pdf')"
   ]
  },
  {
   "cell_type": "markdown",
   "metadata": {},
   "source": [
    "Clear seasonal trends. Noticeable residuals appeared from 1995 onwards."
   ]
  },
  {
   "cell_type": "code",
   "execution_count": 33,
   "metadata": {},
   "outputs": [
    {
     "data": {
      "image/png": "[encoded data removed]",
      "text/plain": [
       "<Figure size 432x288 with 4 Axes>"
      ]
     },
     "metadata": {
      "needs_background": "light"
     },
     "output_type": "display_data"
    }
   ],
   "source": [
    "# Look at last 20 years (approx. 1998 to 2017)\n",
    "res=seasonal_decompose(sp500['adj_close'].tail(252*20),freq=252,model='addictive')\n",
    "res.plot()\n",
    "plt.xticks(rotation=0)\n",
    "plt.show()"
   ]
  },
  {
   "cell_type": "markdown",
   "metadata": {},
   "source": [
    "Clear seasonal trends (yearly) oberserved once more."
   ]
  },
  {
   "cell_type": "code",
   "execution_count": 34,
   "metadata": {},
   "outputs": [
    {
     "data": {
      "image/png": "[encoded data removed]",
      "text/plain": [
       "<Figure size 432x288 with 1 Axes>"
      ]
     },
     "metadata": {
      "needs_background": "light"
     },
     "output_type": "display_data"
    }
   ],
   "source": [
    "# Histogram\n",
    "sp500.hist()\n",
    "plt.show()"
   ]
  },
  {
   "cell_type": "markdown",
   "metadata": {},
   "source": [
    "Distribution is not normal."
   ]
  },
  {
   "cell_type": "code",
   "execution_count": 35,
   "metadata": {},
   "outputs": [
    {
     "name": "stdout",
     "output_type": "stream",
     "text": [
      "mean1=102.511926, mean2=1041.560176\n",
      "variance1=1937.287000, variance2=286434.752684\n"
     ]
    }
   ],
   "source": [
    "# Split into 2 groups and check their means and variance\n",
    "split = int(len(sp500)/2)\n",
    "grp1,grp2=sp500.iloc[0:split,0],sp500.iloc[split:,0]\n",
    "mean1, mean2 = grp1.mean(), grp2.mean()\n",
    "var1, var2 = grp1.var(), grp2.var()\n",
    "print('mean1=%f, mean2=%f' % (mean1, mean2))\n",
    "print('variance1=%f, variance2=%f' % (var1, var2))\n",
    "# Note: Very different mean & variance."
   ]
  },
  {
   "cell_type": "code",
   "execution_count": 36,
   "metadata": {},
   "outputs": [
    {
     "name": "stdout",
     "output_type": "stream",
     "text": [
      "ADF statistic: 2.078626\n",
      "p-value: 0.998767\n",
      "Critical values:\n",
      "\t1%: -3.431\n",
      "\t5%: -2.862\n",
      "\t10%: -2.567\n"
     ]
    }
   ],
   "source": [
    "# Augmented Dickey-Fuller (ADF) test\n",
    "result = adfuller(sp500.iloc[:,0].values)\n",
    "print('ADF statistic: %f' % result[0])\n",
    "print('p-value: %f' % result[1])\n",
    "print('Critical values:')\n",
    "for key, value in result[4].items():\n",
    "    print('\\t%s: %.3f' % (key,value))\n",
    "# Conclusion: Non-stationary as p-value > 0.05    "
   ]
  },
  {
   "cell_type": "markdown",
   "metadata": {},
   "source": [
    "---\n",
    "### Autocorrelation and Partial Autocorrelation plots"
   ]
  },
  {
   "cell_type": "code",
   "execution_count": 37,
   "metadata": {},
   "outputs": [],
   "source": [
    "day,wk,mth,yr,three_yr,five_yr,ten_yr=1,5,20,252,252*3,252*5,252*10\n",
    "lags=[day,wk,mth,yr,three_yr,five_yr,ten_yr]\n",
    "# lag_names=['day','week','month','year','three-year','five-year','ten-year']"
   ]
  },
  {
   "cell_type": "code",
   "execution_count": 38,
   "metadata": {},
   "outputs": [
    {
     "name": "stdout",
     "output_type": "stream",
     "text": [
      "1 Day Lag Autocorrelation: 0.9999\n",
      "1 Week Lag Autocorrelation: 0.9995\n",
      "1 Month Lag Autocorrelation: 0.9985\n",
      "1 Year Lag Autocorrelation: 0.9776\n",
      "3 Year Lag Autocorrelation: 0.9181\n",
      "5 Year Lag Autocorrelation: 0.8755\n",
      "10 Year Lag Autocorrelation: 0.8428\n"
     ]
    }
   ],
   "source": [
    "print('1 Day Lag Autocorrelation: %.4f' % sp500['adj_close'].autocorr(lag=day))\n",
    "print('1 Week Lag Autocorrelation: %.4f' % sp500['adj_close'].autocorr(lag=wk))\n",
    "print('1 Month Lag Autocorrelation: %.4f' % sp500['adj_close'].autocorr(lag=mth))\n",
    "print('1 Year Lag Autocorrelation: %.4f' % sp500['adj_close'].autocorr(lag=yr))\n",
    "print('3 Year Lag Autocorrelation: %.4f' % sp500['adj_close'].autocorr(lag=three_yr))\n",
    "print('5 Year Lag Autocorrelation: %.4f' % sp500['adj_close'].autocorr(lag=five_yr))\n",
    "print('10 Year Lag Autocorrelation: %.4f' % sp500['adj_close'].autocorr(lag=ten_yr))"
   ]
  },
  {
   "cell_type": "markdown",
   "metadata": {},
   "source": [
    "High autocorrelations."
   ]
  },
  {
   "cell_type": "markdown",
   "metadata": {},
   "source": [
    "---\n",
    "<a name='LSTM_sta'></a>\n",
    "### Applying LSTM on stationary data"
   ]
  },
  {
   "cell_type": "code",
   "execution_count": 39,
   "metadata": {},
   "outputs": [],
   "source": [
    "data=sp500\n",
    "data['diff']=sp500['adj_close'].diff(1)"
   ]
  },
  {
   "cell_type": "code",
   "execution_count": 40,
   "metadata": {},
   "outputs": [
    {
     "data": {
      "text/html": [
       "<div>\n",
       "<style scoped>\n",
       "    .dataframe tbody tr th:only-of-type {\n",
       "        vertical-align: middle;\n",
       "    }\n",
       "\n",
       "    .dataframe tbody tr th {\n",
       "        vertical-align: top;\n",
       "    }\n",
       "\n",
       "    .dataframe thead th {\n",
       "        text-align: right;\n",
       "    }\n",
       "</style>\n",
       "<table border=\"1\" class=\"dataframe\">\n",
       "  <thead>\n",
       "    <tr style=\"text-align: right;\">\n",
       "      <th></th>\n",
       "      <th>adj_close</th>\n",
       "      <th>diff</th>\n",
       "    </tr>\n",
       "    <tr>\n",
       "      <th>date</th>\n",
       "      <th></th>\n",
       "      <th></th>\n",
       "    </tr>\n",
       "  </thead>\n",
       "  <tbody>\n",
       "    <tr>\n",
       "      <th>1957-03-04</th>\n",
       "      <td>44.060001</td>\n",
       "      <td>NaN</td>\n",
       "    </tr>\n",
       "    <tr>\n",
       "      <th>1957-03-05</th>\n",
       "      <td>44.220001</td>\n",
       "      <td>0.160000</td>\n",
       "    </tr>\n",
       "    <tr>\n",
       "      <th>1957-03-06</th>\n",
       "      <td>44.230000</td>\n",
       "      <td>0.009999</td>\n",
       "    </tr>\n",
       "    <tr>\n",
       "      <th>1957-03-07</th>\n",
       "      <td>44.209999</td>\n",
       "      <td>-0.020001</td>\n",
       "    </tr>\n",
       "    <tr>\n",
       "      <th>1957-03-08</th>\n",
       "      <td>44.070000</td>\n",
       "      <td>-0.139999</td>\n",
       "    </tr>\n",
       "  </tbody>\n",
       "</table>\n",
       "</div>"
      ],
      "text/plain": [
       "            adj_close      diff\n",
       "date                           \n",
       "1957-03-04  44.060001       NaN\n",
       "1957-03-05  44.220001  0.160000\n",
       "1957-03-06  44.230000  0.009999\n",
       "1957-03-07  44.209999 -0.020001\n",
       "1957-03-08  44.070000 -0.139999"
      ]
     },
     "execution_count": 40,
     "metadata": {},
     "output_type": "execute_result"
    }
   ],
   "source": [
    "data.head()"
   ]
  },
  {
   "cell_type": "code",
   "execution_count": 41,
   "metadata": {},
   "outputs": [],
   "source": [
    "data.dropna(inplace=True)"
   ]
  },
  {
   "cell_type": "code",
   "execution_count": 42,
   "metadata": {},
   "outputs": [],
   "source": [
    "from keras.models import Sequential\n",
    "from keras.layers import Dense\n",
    "from keras.layers import LSTM\n",
    "from sklearn.preprocessing import MinMaxScaler"
   ]
  },
  {
   "cell_type": "code",
   "execution_count": 43,
   "metadata": {},
   "outputs": [],
   "source": [
    "rate = data[['diff']]\n",
    "mms = MinMaxScaler(feature_range=(-1,1))"
   ]
  },
  {
   "cell_type": "code",
   "execution_count": 44,
   "metadata": {},
   "outputs": [
    {
     "data": {
      "text/html": [
       "<div>\n",
       "<style scoped>\n",
       "    .dataframe tbody tr th:only-of-type {\n",
       "        vertical-align: middle;\n",
       "    }\n",
       "\n",
       "    .dataframe tbody tr th {\n",
       "        vertical-align: top;\n",
       "    }\n",
       "\n",
       "    .dataframe thead th {\n",
       "        text-align: right;\n",
       "    }\n",
       "</style>\n",
       "<table border=\"1\" class=\"dataframe\">\n",
       "  <thead>\n",
       "    <tr style=\"text-align: right;\">\n",
       "      <th></th>\n",
       "      <th>diff</th>\n",
       "    </tr>\n",
       "    <tr>\n",
       "      <th>date</th>\n",
       "      <th></th>\n",
       "    </tr>\n",
       "  </thead>\n",
       "  <tbody>\n",
       "    <tr>\n",
       "      <th>1957-03-05</th>\n",
       "      <td>0.160000</td>\n",
       "    </tr>\n",
       "    <tr>\n",
       "      <th>1957-03-06</th>\n",
       "      <td>0.009999</td>\n",
       "    </tr>\n",
       "    <tr>\n",
       "      <th>1957-03-07</th>\n",
       "      <td>-0.020001</td>\n",
       "    </tr>\n",
       "    <tr>\n",
       "      <th>1957-03-08</th>\n",
       "      <td>-0.139999</td>\n",
       "    </tr>\n",
       "    <tr>\n",
       "      <th>1957-03-11</th>\n",
       "      <td>-0.290001</td>\n",
       "    </tr>\n",
       "  </tbody>\n",
       "</table>\n",
       "</div>"
      ],
      "text/plain": [
       "                diff\n",
       "date                \n",
       "1957-03-05  0.160000\n",
       "1957-03-06  0.009999\n",
       "1957-03-07 -0.020001\n",
       "1957-03-08 -0.139999\n",
       "1957-03-11 -0.290001"
      ]
     },
     "execution_count": 44,
     "metadata": {},
     "output_type": "execute_result"
    }
   ],
   "source": [
    "rate.head()"
   ]
  },
  {
   "cell_type": "code",
   "execution_count": 45,
   "metadata": {},
   "outputs": [
    {
     "name": "stdout",
     "output_type": "stream",
     "text": [
      "15119 10583 4536\n"
     ]
    }
   ],
   "source": [
    "# With full dataset, split train/test into 70:30\n",
    "train_size = int(len(rate)*0.7)\n",
    "test_size = len(rate) - train_size\n",
    "train,test=rate[0:train_size],rate[train_size:]\n",
    "print(len(rate),train_size,test_size)"
   ]
  },
  {
   "cell_type": "code",
   "execution_count": 46,
   "metadata": {},
   "outputs": [
    {
     "name": "stdout",
     "output_type": "stream",
     "text": [
      "(10583, 1) (4536, 1)\n"
     ]
    }
   ],
   "source": [
    "mms = mms.fit(train)\n",
    "train = mms.transform(train)\n",
    "test = mms.transform(test)\n",
    "print(train.shape,test.shape)"
   ]
  },
  {
   "cell_type": "code",
   "execution_count": 47,
   "metadata": {},
   "outputs": [
    {
     "data": {
      "image/png": "[encoded data removed]",
      "text/plain": [
       "<Figure size 432x288 with 1 Axes>"
      ]
     },
     "metadata": {
      "needs_background": "light"
     },
     "output_type": "display_data"
    }
   ],
   "source": [
    "data['diff'].plot()\n",
    "plt.title('Daily Change in S&P500')\n",
    "plt.show()"
   ]
  },
  {
   "cell_type": "code",
   "execution_count": 48,
   "metadata": {},
   "outputs": [
    {
     "data": {
      "image/png": "[encoded data removed]",
      "text/plain": [
       "<Figure size 432x288 with 1 Axes>"
      ]
     },
     "metadata": {
      "needs_background": "light"
     },
     "output_type": "display_data"
    }
   ],
   "source": [
    "data['diff'].tail(252*20).plot()\n",
    "plt.title('Daily Change (past 20 years)')\n",
    "plt.show()"
   ]
  },
  {
   "cell_type": "code",
   "execution_count": 49,
   "metadata": {},
   "outputs": [],
   "source": [
    "lag=1\n",
    "X_train=np.array(train[:-lag])\n",
    "y_train=np.array(train[lag:])\n",
    "X_test=np.array(test[:-lag])\n",
    "y_test=np.array(test[lag:])"
   ]
  },
  {
   "cell_type": "code",
   "execution_count": 50,
   "metadata": {},
   "outputs": [],
   "source": [
    "time_steps = 1\n",
    "X_train = np.reshape(X_train, (X_train.shape[0], time_steps, X_train.shape[1]))\n",
    "X_test = np.reshape(X_test, (X_test.shape[0], time_steps, X_test.shape[1]))"
   ]
  },
  {
   "cell_type": "code",
   "execution_count": 51,
   "metadata": {},
   "outputs": [
    {
     "name": "stdout",
     "output_type": "stream",
     "text": [
      "Epoch 1/20\n",
      "10582/10582 [==============================] - 64s 6ms/step - loss: 0.0033\n",
      "Epoch 2/20\n",
      "10582/10582 [==============================] - 63s 6ms/step - loss: 0.0032\n",
      "Epoch 3/20\n",
      "10582/10582 [==============================] - 64s 6ms/step - loss: 0.0032\n",
      "Epoch 4/20\n",
      "10582/10582 [==============================] - 65s 6ms/step - loss: 0.0032\n",
      "Epoch 5/20\n",
      "10582/10582 [==============================] - 63s 6ms/step - loss: 0.0032\n",
      "Epoch 6/20\n",
      "10582/10582 [==============================] - 64s 6ms/step - loss: 0.0032\n",
      "Epoch 7/20\n",
      "10582/10582 [==============================] - 64s 6ms/step - loss: 0.0032\n",
      "Epoch 8/20\n",
      "10582/10582 [==============================] - 64s 6ms/step - loss: 0.0032\n",
      "Epoch 9/20\n",
      "10582/10582 [==============================] - 64s 6ms/step - loss: 0.0032\n",
      "Epoch 10/20\n",
      "10582/10582 [==============================] - 63s 6ms/step - loss: 0.0032\n",
      "Epoch 11/20\n",
      "10582/10582 [==============================] - 62s 6ms/step - loss: 0.0032\n",
      "Epoch 12/20\n",
      "10582/10582 [==============================] - 63s 6ms/step - loss: 0.0032\n",
      "Epoch 13/20\n",
      "10582/10582 [==============================] - 63s 6ms/step - loss: 0.0032\n",
      "Epoch 14/20\n",
      "10582/10582 [==============================] - 63s 6ms/step - loss: 0.0032\n",
      "Epoch 15/20\n",
      "10582/10582 [==============================] - 63s 6ms/step - loss: 0.0032\n",
      "Epoch 16/20\n",
      "10582/10582 [==============================] - 63s 6ms/step - loss: 0.0032\n",
      "Epoch 17/20\n",
      "10582/10582 [==============================] - 63s 6ms/step - loss: 0.0032\n",
      "Epoch 18/20\n",
      "10582/10582 [==============================] - 66s 6ms/step - loss: 0.0032\n",
      "Epoch 19/20\n",
      "10582/10582 [==============================] - 68s 6ms/step - loss: 0.0032\n",
      "Epoch 20/20\n",
      "10582/10582 [==============================] - 68s 6ms/step - loss: 0.0032\n"
     ]
    },
    {
     "data": {
      "text/plain": [
       "<keras.callbacks.History at 0x1d1cd312da0>"
      ]
     },
     "execution_count": 51,
     "metadata": {},
     "output_type": "execute_result"
    }
   ],
   "source": [
    "# Create and fit LSTM network\n",
    "lag=1\n",
    "np.random.seed(7)\n",
    "model = Sequential()\n",
    "model.add(LSTM(4, input_shape=(1, lag))) # 4 neurons\n",
    "model.add(Dense(1)) # 1 layer\n",
    "model.compile(loss='mean_squared_error', optimizer='adam')\n",
    "model.fit(X_train, y_train, epochs=20, batch_size=1, verbose=1)"
   ]
  },
  {
   "cell_type": "code",
   "execution_count": 52,
   "metadata": {},
   "outputs": [
    {
     "name": "stdout",
     "output_type": "stream",
     "text": [
      "10582 4535\n",
      "10582 4535\n"
     ]
    }
   ],
   "source": [
    "# Predict with model\n",
    "trainPredict = model.predict(X_train)\n",
    "testPredict = model.predict(X_test)\n",
    "print(len(X_train),len(X_test))\n",
    "print(len(trainPredict),len(testPredict))"
   ]
  },
  {
   "cell_type": "code",
   "execution_count": 53,
   "metadata": {},
   "outputs": [],
   "source": [
    "# Inverse the transformations\n",
    "y_train = mms.inverse_transform(y_train)\n",
    "y_test = mms.inverse_transform(y_test)\n",
    "testPredict = mms.inverse_transform(testPredict)\n",
    "trainPredict = mms.inverse_transform(trainPredict)"
   ]
  },
  {
   "cell_type": "code",
   "execution_count": 54,
   "metadata": {},
   "outputs": [
    {
     "data": {
      "text/plain": [
       "15117"
      ]
     },
     "execution_count": 54,
     "metadata": {},
     "output_type": "execute_result"
    }
   ],
   "source": [
    "# adjust rate data (due to train test)\n",
    "rate_adj = pd.concat([sp500[['diff']][0:train_size][:-lag],sp500[['diff']][train_size:][:-lag]],axis=0)\n",
    "len(rate_adj)"
   ]
  },
  {
   "cell_type": "code",
   "execution_count": 55,
   "metadata": {},
   "outputs": [
    {
     "data": {
      "text/plain": [
       "15117"
      ]
     },
     "execution_count": 55,
     "metadata": {},
     "output_type": "execute_result"
    }
   ],
   "source": [
    "# Shift train predictions for plotting\n",
    "trainPredictPlot = np.empty_like(rate_adj) # Return a new empty array with same shape and type as given array\n",
    "trainPredictPlot[:, :] = np.nan\n",
    "trainPredictPlot[0:train_size-lag, :] = trainPredict\n",
    "len(trainPredictPlot)"
   ]
  },
  {
   "cell_type": "code",
   "execution_count": 56,
   "metadata": {},
   "outputs": [
    {
     "data": {
      "text/plain": [
       "15117"
      ]
     },
     "execution_count": 56,
     "metadata": {},
     "output_type": "execute_result"
    }
   ],
   "source": [
    "# Shift test predictions for plotting\n",
    "testPredictPlot = np.empty_like(rate_adj)\n",
    "testPredictPlot[:, :] = np.nan\n",
    "testPredictPlot[train_size-lag:, :] = testPredict\n",
    "len(testPredictPlot)"
   ]
  },
  {
   "cell_type": "code",
   "execution_count": 57,
   "metadata": {},
   "outputs": [],
   "source": [
    "trainPredictPlot = pd.DataFrame(trainPredictPlot,columns=['trainPredict'])\n",
    "trainPredictPlot.index=rate_adj.index\n",
    "\n",
    "testPredictPlot = pd.DataFrame(testPredictPlot,columns=['testPredict'])\n",
    "testPredictPlot.index=rate_adj.index\n",
    "\n",
    "plot_rate = pd.concat([rate_adj,pd.DataFrame(trainPredictPlot),pd.DataFrame(testPredictPlot)],axis=1)"
   ]
  },
  {
   "cell_type": "code",
   "execution_count": 58,
   "metadata": {
    "scrolled": true
   },
   "outputs": [
    {
     "data": {
      "image/png": "[encoded data removed]",
      "text/plain": [
       "<Figure size 1008x504 with 1 Axes>"
      ]
     },
     "metadata": {
      "needs_background": "light"
     },
     "output_type": "display_data"
    },
    {
     "name": "stdout",
     "output_type": "stream",
     "text": [
      "Train Score for LSTM: 3.33 RMSE\n",
      "Test Score for LSTM: 15.19 RMSE\n"
     ]
    }
   ],
   "source": [
    "# Plot baseline and predictions\n",
    "plt.figure(figsize=(14,7))\n",
    "plt.plot(plot_rate)\n",
    "# plt.plot(plot1['trainPredictPlot'])\n",
    "# plt.plot(testPredictPlot)\n",
    "plt.legend(['actual daily change','trainset prediction','testset prediction'])\n",
    "plt.title('LSTM Prediction (daily change)')\n",
    "plt.show()\n",
    "\n",
    "# Calculate RMSE\n",
    "from sklearn.metrics import mean_squared_error\n",
    "trainScore = np.sqrt(mean_squared_error(y_train, trainPredict))\n",
    "print('Train Score for LSTM: %.2f RMSE' % (trainScore))\n",
    "testScore = np.sqrt(mean_squared_error(y_test, testPredict))\n",
    "print('Test Score for LSTM: %.2f RMSE' % (testScore))"
   ]
  },
  {
   "cell_type": "code",
   "execution_count": 59,
   "metadata": {},
   "outputs": [],
   "source": [
    "# Inversing data from daily change back to daily level\n",
    "plot_lvl = pd.concat([sp500['adj_close'],plot_rate],axis=1)"
   ]
  },
  {
   "cell_type": "code",
   "execution_count": 60,
   "metadata": {},
   "outputs": [
    {
     "data": {
      "text/plain": [
       "15119"
      ]
     },
     "execution_count": 60,
     "metadata": {},
     "output_type": "execute_result"
    }
   ],
   "source": [
    "len(plot_lvl)"
   ]
  },
  {
   "cell_type": "code",
   "execution_count": 61,
   "metadata": {},
   "outputs": [
    {
     "data": {
      "text/plain": [
       "15117"
      ]
     },
     "execution_count": 61,
     "metadata": {},
     "output_type": "execute_result"
    }
   ],
   "source": [
    "plot_lvl.dropna(axis=0,thresh=3,inplace=True)\n",
    "len(plot_lvl)"
   ]
  },
  {
   "cell_type": "code",
   "execution_count": 62,
   "metadata": {},
   "outputs": [
    {
     "data": {
      "text/html": [
       "<div>\n",
       "<style scoped>\n",
       "    .dataframe tbody tr th:only-of-type {\n",
       "        vertical-align: middle;\n",
       "    }\n",
       "\n",
       "    .dataframe tbody tr th {\n",
       "        vertical-align: top;\n",
       "    }\n",
       "\n",
       "    .dataframe thead th {\n",
       "        text-align: right;\n",
       "    }\n",
       "</style>\n",
       "<table border=\"1\" class=\"dataframe\">\n",
       "  <thead>\n",
       "    <tr style=\"text-align: right;\">\n",
       "      <th></th>\n",
       "      <th>adj_close</th>\n",
       "      <th>diff</th>\n",
       "      <th>trainPredict</th>\n",
       "      <th>testPredict</th>\n",
       "    </tr>\n",
       "    <tr>\n",
       "      <th>date</th>\n",
       "      <th></th>\n",
       "      <th></th>\n",
       "      <th></th>\n",
       "      <th></th>\n",
       "    </tr>\n",
       "  </thead>\n",
       "  <tbody>\n",
       "    <tr>\n",
       "      <th>2017-03-17</th>\n",
       "      <td>2378.250000</td>\n",
       "      <td>-3.129883</td>\n",
       "      <td>NaN</td>\n",
       "      <td>0.020040</td>\n",
       "    </tr>\n",
       "    <tr>\n",
       "      <th>2017-03-20</th>\n",
       "      <td>2373.469971</td>\n",
       "      <td>-4.780029</td>\n",
       "      <td>NaN</td>\n",
       "      <td>-0.034581</td>\n",
       "    </tr>\n",
       "    <tr>\n",
       "      <th>2017-03-21</th>\n",
       "      <td>2344.020020</td>\n",
       "      <td>-29.449951</td>\n",
       "      <td>NaN</td>\n",
       "      <td>2.834940</td>\n",
       "    </tr>\n",
       "    <tr>\n",
       "      <th>2017-03-22</th>\n",
       "      <td>2348.449951</td>\n",
       "      <td>4.429931</td>\n",
       "      <td>NaN</td>\n",
       "      <td>0.571976</td>\n",
       "    </tr>\n",
       "    <tr>\n",
       "      <th>2017-03-23</th>\n",
       "      <td>2345.959961</td>\n",
       "      <td>-2.489990</td>\n",
       "      <td>NaN</td>\n",
       "      <td>0.048094</td>\n",
       "    </tr>\n",
       "  </tbody>\n",
       "</table>\n",
       "</div>"
      ],
      "text/plain": [
       "              adj_close       diff  trainPredict  testPredict\n",
       "date                                                         \n",
       "2017-03-17  2378.250000  -3.129883           NaN     0.020040\n",
       "2017-03-20  2373.469971  -4.780029           NaN    -0.034581\n",
       "2017-03-21  2344.020020 -29.449951           NaN     2.834940\n",
       "2017-03-22  2348.449951   4.429931           NaN     0.571976\n",
       "2017-03-23  2345.959961  -2.489990           NaN     0.048094"
      ]
     },
     "execution_count": 62,
     "metadata": {},
     "output_type": "execute_result"
    }
   ],
   "source": [
    "plot_lvl.tail()"
   ]
  },
  {
   "cell_type": "code",
   "execution_count": 63,
   "metadata": {},
   "outputs": [],
   "source": [
    "# train set predictions (inversed from daily change to daily level)\n",
    "train_close=[]\n",
    "\n",
    "prev_close = plot_lvl.iloc[0,0] - plot_lvl.iloc[0,1]\n",
    "\n",
    "for n in plot_lvl['trainPredict']:\n",
    "    try:\n",
    "        close = prev_close + n\n",
    "        train_close.append(close)\n",
    "        prev_close = close\n",
    "    except:\n",
    "        break      "
   ]
  },
  {
   "cell_type": "code",
   "execution_count": 64,
   "metadata": {},
   "outputs": [
    {
     "data": {
      "text/html": [
       "<div>\n",
       "<style scoped>\n",
       "    .dataframe tbody tr th:only-of-type {\n",
       "        vertical-align: middle;\n",
       "    }\n",
       "\n",
       "    .dataframe tbody tr th {\n",
       "        vertical-align: top;\n",
       "    }\n",
       "\n",
       "    .dataframe thead th {\n",
       "        text-align: right;\n",
       "    }\n",
       "</style>\n",
       "<table border=\"1\" class=\"dataframe\">\n",
       "  <thead>\n",
       "    <tr style=\"text-align: right;\">\n",
       "      <th></th>\n",
       "      <th>adj_close</th>\n",
       "      <th>diff</th>\n",
       "      <th>trainPredict</th>\n",
       "      <th>testPredict</th>\n",
       "      <th>train_close</th>\n",
       "    </tr>\n",
       "    <tr>\n",
       "      <th>date</th>\n",
       "      <th></th>\n",
       "      <th></th>\n",
       "      <th></th>\n",
       "      <th></th>\n",
       "      <th></th>\n",
       "    </tr>\n",
       "  </thead>\n",
       "  <tbody>\n",
       "    <tr>\n",
       "      <th>1957-03-05</th>\n",
       "      <td>44.220001</td>\n",
       "      <td>0.160000</td>\n",
       "      <td>0.202994</td>\n",
       "      <td>NaN</td>\n",
       "      <td>44.262995</td>\n",
       "    </tr>\n",
       "    <tr>\n",
       "      <th>1957-03-06</th>\n",
       "      <td>44.230000</td>\n",
       "      <td>0.009999</td>\n",
       "      <td>0.192621</td>\n",
       "      <td>NaN</td>\n",
       "      <td>44.455616</td>\n",
       "    </tr>\n",
       "    <tr>\n",
       "      <th>1957-03-07</th>\n",
       "      <td>44.209999</td>\n",
       "      <td>-0.020001</td>\n",
       "      <td>0.190569</td>\n",
       "      <td>NaN</td>\n",
       "      <td>44.646185</td>\n",
       "    </tr>\n",
       "    <tr>\n",
       "      <th>1957-03-08</th>\n",
       "      <td>44.070000</td>\n",
       "      <td>-0.139999</td>\n",
       "      <td>0.182436</td>\n",
       "      <td>NaN</td>\n",
       "      <td>44.828621</td>\n",
       "    </tr>\n",
       "    <tr>\n",
       "      <th>1957-03-11</th>\n",
       "      <td>43.779999</td>\n",
       "      <td>-0.290001</td>\n",
       "      <td>0.172438</td>\n",
       "      <td>NaN</td>\n",
       "      <td>45.001059</td>\n",
       "    </tr>\n",
       "  </tbody>\n",
       "</table>\n",
       "</div>"
      ],
      "text/plain": [
       "            adj_close      diff  trainPredict  testPredict  train_close\n",
       "date                                                                   \n",
       "1957-03-05  44.220001  0.160000      0.202994          NaN    44.262995\n",
       "1957-03-06  44.230000  0.009999      0.192621          NaN    44.455616\n",
       "1957-03-07  44.209999 -0.020001      0.190569          NaN    44.646185\n",
       "1957-03-08  44.070000 -0.139999      0.182436          NaN    44.828621\n",
       "1957-03-11  43.779999 -0.290001      0.172438          NaN    45.001059"
      ]
     },
     "execution_count": 64,
     "metadata": {},
     "output_type": "execute_result"
    }
   ],
   "source": [
    "train_close = pd.DataFrame(train_close,columns=['train_close'])\n",
    "train_close.index = plot_lvl.index\n",
    "plot_lvl=pd.concat([plot_lvl,train_close],axis=1)\n",
    "plot_lvl.head()"
   ]
  },
  {
   "cell_type": "code",
   "execution_count": 65,
   "metadata": {},
   "outputs": [],
   "source": [
    "# test set predictions (inversed from daily change to daily level)\n",
    "test_close=[]\n",
    "\n",
    "for n in plot_lvl['testPredict'][:'1999-03-15']:\n",
    "    test_close.append(np.nan)\n",
    "\n",
    "prev_close = plot_lvl.loc['1999-03-15','train_close']\n",
    "\n",
    "for n in plot_lvl['testPredict']['1999-03-17':]:\n",
    "    close = prev_close + n\n",
    "    test_close.append(close)\n",
    "    prev_close = close     "
   ]
  },
  {
   "cell_type": "code",
   "execution_count": 66,
   "metadata": {},
   "outputs": [],
   "source": [
    "test_close = pd.DataFrame(test_close,columns=['test_close'])\n",
    "test_close.index = plot_lvl.index\n",
    "plot_lvl=pd.concat([plot_lvl,test_close],axis=1)"
   ]
  },
  {
   "cell_type": "code",
   "execution_count": 67,
   "metadata": {},
   "outputs": [
    {
     "data": {
      "text/html": [
       "<div>\n",
       "<style scoped>\n",
       "    .dataframe tbody tr th:only-of-type {\n",
       "        vertical-align: middle;\n",
       "    }\n",
       "\n",
       "    .dataframe tbody tr th {\n",
       "        vertical-align: top;\n",
       "    }\n",
       "\n",
       "    .dataframe thead th {\n",
       "        text-align: right;\n",
       "    }\n",
       "</style>\n",
       "<table border=\"1\" class=\"dataframe\">\n",
       "  <thead>\n",
       "    <tr style=\"text-align: right;\">\n",
       "      <th></th>\n",
       "      <th>adj_close</th>\n",
       "      <th>diff</th>\n",
       "      <th>trainPredict</th>\n",
       "      <th>testPredict</th>\n",
       "      <th>train_close</th>\n",
       "      <th>test_close</th>\n",
       "    </tr>\n",
       "    <tr>\n",
       "      <th>date</th>\n",
       "      <th></th>\n",
       "      <th></th>\n",
       "      <th></th>\n",
       "      <th></th>\n",
       "      <th></th>\n",
       "      <th></th>\n",
       "    </tr>\n",
       "  </thead>\n",
       "  <tbody>\n",
       "    <tr>\n",
       "      <th>1957-03-05</th>\n",
       "      <td>44.220001</td>\n",
       "      <td>0.160000</td>\n",
       "      <td>0.202994</td>\n",
       "      <td>NaN</td>\n",
       "      <td>44.262995</td>\n",
       "      <td>NaN</td>\n",
       "    </tr>\n",
       "    <tr>\n",
       "      <th>1957-03-06</th>\n",
       "      <td>44.230000</td>\n",
       "      <td>0.009999</td>\n",
       "      <td>0.192621</td>\n",
       "      <td>NaN</td>\n",
       "      <td>44.455616</td>\n",
       "      <td>NaN</td>\n",
       "    </tr>\n",
       "    <tr>\n",
       "      <th>1957-03-07</th>\n",
       "      <td>44.209999</td>\n",
       "      <td>-0.020001</td>\n",
       "      <td>0.190569</td>\n",
       "      <td>NaN</td>\n",
       "      <td>44.646185</td>\n",
       "      <td>NaN</td>\n",
       "    </tr>\n",
       "    <tr>\n",
       "      <th>1957-03-08</th>\n",
       "      <td>44.070000</td>\n",
       "      <td>-0.139999</td>\n",
       "      <td>0.182436</td>\n",
       "      <td>NaN</td>\n",
       "      <td>44.828621</td>\n",
       "      <td>NaN</td>\n",
       "    </tr>\n",
       "    <tr>\n",
       "      <th>1957-03-11</th>\n",
       "      <td>43.779999</td>\n",
       "      <td>-0.290001</td>\n",
       "      <td>0.172438</td>\n",
       "      <td>NaN</td>\n",
       "      <td>45.001059</td>\n",
       "      <td>NaN</td>\n",
       "    </tr>\n",
       "  </tbody>\n",
       "</table>\n",
       "</div>"
      ],
      "text/plain": [
       "            adj_close      diff  trainPredict  testPredict  train_close  \\\n",
       "date                                                                      \n",
       "1957-03-05  44.220001  0.160000      0.202994          NaN    44.262995   \n",
       "1957-03-06  44.230000  0.009999      0.192621          NaN    44.455616   \n",
       "1957-03-07  44.209999 -0.020001      0.190569          NaN    44.646185   \n",
       "1957-03-08  44.070000 -0.139999      0.182436          NaN    44.828621   \n",
       "1957-03-11  43.779999 -0.290001      0.172438          NaN    45.001059   \n",
       "\n",
       "            test_close  \n",
       "date                    \n",
       "1957-03-05         NaN  \n",
       "1957-03-06         NaN  \n",
       "1957-03-07         NaN  \n",
       "1957-03-08         NaN  \n",
       "1957-03-11         NaN  "
      ]
     },
     "execution_count": 67,
     "metadata": {},
     "output_type": "execute_result"
    }
   ],
   "source": [
    "plot_lvl.head()"
   ]
  },
  {
   "cell_type": "code",
   "execution_count": 68,
   "metadata": {},
   "outputs": [
    {
     "data": {
      "text/html": [
       "<div>\n",
       "<style scoped>\n",
       "    .dataframe tbody tr th:only-of-type {\n",
       "        vertical-align: middle;\n",
       "    }\n",
       "\n",
       "    .dataframe tbody tr th {\n",
       "        vertical-align: top;\n",
       "    }\n",
       "\n",
       "    .dataframe thead th {\n",
       "        text-align: right;\n",
       "    }\n",
       "</style>\n",
       "<table border=\"1\" class=\"dataframe\">\n",
       "  <thead>\n",
       "    <tr style=\"text-align: right;\">\n",
       "      <th></th>\n",
       "      <th>adj_close</th>\n",
       "      <th>train_close</th>\n",
       "      <th>test_close</th>\n",
       "    </tr>\n",
       "    <tr>\n",
       "      <th>date</th>\n",
       "      <th></th>\n",
       "      <th></th>\n",
       "      <th></th>\n",
       "    </tr>\n",
       "  </thead>\n",
       "  <tbody>\n",
       "    <tr>\n",
       "      <th>1957-03-05</th>\n",
       "      <td>44.220001</td>\n",
       "      <td>44.262995</td>\n",
       "      <td>NaN</td>\n",
       "    </tr>\n",
       "    <tr>\n",
       "      <th>1957-03-06</th>\n",
       "      <td>44.230000</td>\n",
       "      <td>44.455616</td>\n",
       "      <td>NaN</td>\n",
       "    </tr>\n",
       "    <tr>\n",
       "      <th>1957-03-07</th>\n",
       "      <td>44.209999</td>\n",
       "      <td>44.646185</td>\n",
       "      <td>NaN</td>\n",
       "    </tr>\n",
       "    <tr>\n",
       "      <th>1957-03-08</th>\n",
       "      <td>44.070000</td>\n",
       "      <td>44.828621</td>\n",
       "      <td>NaN</td>\n",
       "    </tr>\n",
       "    <tr>\n",
       "      <th>1957-03-11</th>\n",
       "      <td>43.779999</td>\n",
       "      <td>45.001059</td>\n",
       "      <td>NaN</td>\n",
       "    </tr>\n",
       "  </tbody>\n",
       "</table>\n",
       "</div>"
      ],
      "text/plain": [
       "            adj_close  train_close  test_close\n",
       "date                                          \n",
       "1957-03-05  44.220001    44.262995         NaN\n",
       "1957-03-06  44.230000    44.455616         NaN\n",
       "1957-03-07  44.209999    44.646185         NaN\n",
       "1957-03-08  44.070000    44.828621         NaN\n",
       "1957-03-11  43.779999    45.001059         NaN"
      ]
     },
     "execution_count": 68,
     "metadata": {},
     "output_type": "execute_result"
    }
   ],
   "source": [
    "plot_lvl.drop(['diff','trainPredict','testPredict'],axis=1,inplace=True)\n",
    "plot_lvl.head()"
   ]
  },
  {
   "cell_type": "code",
   "execution_count": 69,
   "metadata": {},
   "outputs": [
    {
     "data": {
      "text/plain": [
       "(4535, 4535)"
      ]
     },
     "execution_count": 69,
     "metadata": {},
     "output_type": "execute_result"
    }
   ],
   "source": [
    "# To verify if size of inversed dataset tallies with original after dropping null values\n",
    "len(y_test),len(plot_lvl['test_close'].dropna())"
   ]
  },
  {
   "cell_type": "code",
   "execution_count": 70,
   "metadata": {},
   "outputs": [
    {
     "data": {
      "image/png": "[encoded data removed]",
      "text/plain": [
       "<Figure size 1008x504 with 1 Axes>"
      ]
     },
     "metadata": {
      "needs_background": "light"
     },
     "output_type": "display_data"
    },
    {
     "name": "stdout",
     "output_type": "stream",
     "text": [
      "Train Score for LSTM: 1009.18 RMSE\n",
      "Test Score for LSTM: 3858.76 RMSE\n"
     ]
    }
   ],
   "source": [
    "# Define train, test and predictions\n",
    "y_train=plot_lvl['adj_close'][0:train_size][:-lag]\n",
    "y_test=plot_lvl['adj_close'][train_size-lag:]\n",
    "trainPredict=plot_lvl['train_close'].dropna()\n",
    "testPredict=plot_lvl['test_close'].dropna()\n",
    "\n",
    "# Plot baseline and predictions\n",
    "plt.figure(figsize=(14,7))\n",
    "plt.plot(plot_lvl)\n",
    "plt.legend(['actual daily level','trainset prediction','testset prediction'])\n",
    "plt.title('LSTM Prediction (daily level)')\n",
    "plt.show()\n",
    "\n",
    "# Calculate RMSE\n",
    "from sklearn.metrics import mean_squared_error\n",
    "trainScore = np.sqrt(mean_squared_error(y_train, trainPredict))\n",
    "print('Train Score for LSTM: %.2f RMSE' % (trainScore))\n",
    "testScore = np.sqrt(mean_squared_error(y_test, testPredict))\n",
    "print('Test Score for LSTM: %.2f RMSE' % (testScore))"
   ]
  },
  {
   "cell_type": "markdown",
   "metadata": {},
   "source": [
    "---\n",
    "<a name='LSTM_non-sta'></a>\n",
    "### LSTM on non-stationary data"
   ]
  },
  {
   "cell_type": "code",
   "execution_count": 71,
   "metadata": {},
   "outputs": [
    {
     "data": {
      "text/html": [
       "<div>\n",
       "<style scoped>\n",
       "    .dataframe tbody tr th:only-of-type {\n",
       "        vertical-align: middle;\n",
       "    }\n",
       "\n",
       "    .dataframe tbody tr th {\n",
       "        vertical-align: top;\n",
       "    }\n",
       "\n",
       "    .dataframe thead th {\n",
       "        text-align: right;\n",
       "    }\n",
       "</style>\n",
       "<table border=\"1\" class=\"dataframe\">\n",
       "  <thead>\n",
       "    <tr style=\"text-align: right;\">\n",
       "      <th></th>\n",
       "      <th>adj_close</th>\n",
       "    </tr>\n",
       "    <tr>\n",
       "      <th>date</th>\n",
       "      <th></th>\n",
       "    </tr>\n",
       "  </thead>\n",
       "  <tbody>\n",
       "    <tr>\n",
       "      <th>1957-03-05</th>\n",
       "      <td>44.220001</td>\n",
       "    </tr>\n",
       "    <tr>\n",
       "      <th>1957-03-06</th>\n",
       "      <td>44.230000</td>\n",
       "    </tr>\n",
       "    <tr>\n",
       "      <th>1957-03-07</th>\n",
       "      <td>44.209999</td>\n",
       "    </tr>\n",
       "    <tr>\n",
       "      <th>1957-03-08</th>\n",
       "      <td>44.070000</td>\n",
       "    </tr>\n",
       "    <tr>\n",
       "      <th>1957-03-11</th>\n",
       "      <td>43.779999</td>\n",
       "    </tr>\n",
       "  </tbody>\n",
       "</table>\n",
       "</div>"
      ],
      "text/plain": [
       "            adj_close\n",
       "date                 \n",
       "1957-03-05  44.220001\n",
       "1957-03-06  44.230000\n",
       "1957-03-07  44.209999\n",
       "1957-03-08  44.070000\n",
       "1957-03-11  43.779999"
      ]
     },
     "execution_count": 71,
     "metadata": {},
     "output_type": "execute_result"
    }
   ],
   "source": [
    "# Create new dataframe for non-stationary data\n",
    "data_nonsta=pd.DataFrame(sp500['adj_close'])\n",
    "data_nonsta.head()"
   ]
  },
  {
   "cell_type": "code",
   "execution_count": 72,
   "metadata": {},
   "outputs": [
    {
     "name": "stdout",
     "output_type": "stream",
     "text": [
      "15119 10583 4536\n"
     ]
    }
   ],
   "source": [
    "# With full dataset, split train/test into 70:30\n",
    "train_size = int(len(data_nonsta)*0.7)\n",
    "test_size = len(data_nonsta) - train_size\n",
    "train,test=data_nonsta[0:train_size],data_nonsta[train_size:]\n",
    "print(len(data_nonsta),train_size,test_size)"
   ]
  },
  {
   "cell_type": "code",
   "execution_count": 73,
   "metadata": {},
   "outputs": [
    {
     "name": "stdout",
     "output_type": "stream",
     "text": [
      "(10583, 1) (4536, 1)\n"
     ]
    }
   ],
   "source": [
    "# Scaling\n",
    "mms = MinMaxScaler(feature_range=(0,1))\n",
    "mms = mms.fit(train)\n",
    "train = mms.transform(train)\n",
    "test = mms.transform(test)\n",
    "print(train.shape,test.shape)"
   ]
  },
  {
   "cell_type": "code",
   "execution_count": 74,
   "metadata": {},
   "outputs": [],
   "source": [
    "lag=1\n",
    "X_train=np.array(train[:-lag])\n",
    "y_train=np.array(train[lag:])\n",
    "X_test=np.array(test[:-lag])\n",
    "y_test=np.array(test[lag:])"
   ]
  },
  {
   "cell_type": "code",
   "execution_count": 75,
   "metadata": {},
   "outputs": [],
   "source": [
    "time_steps = 1\n",
    "X_train = np.reshape(X_train, (X_train.shape[0], time_steps, X_train.shape[1]))\n",
    "X_test = np.reshape(X_test, (X_test.shape[0], time_steps, X_test.shape[1]))"
   ]
  },
  {
   "cell_type": "code",
   "execution_count": 76,
   "metadata": {},
   "outputs": [
    {
     "name": "stdout",
     "output_type": "stream",
     "text": [
      "Epoch 1/20\n",
      "10582/10582 [==============================] - 67s 6ms/step - loss: 0.0028\n",
      "Epoch 2/20\n",
      "10582/10582 [==============================] - 59s 6ms/step - loss: 2.3291e-05\n",
      "Epoch 3/20\n",
      "10582/10582 [==============================] - 62s 6ms/step - loss: 2.1585e-05\n",
      "Epoch 4/20\n",
      "10582/10582 [==============================] - 62s 6ms/step - loss: 2.0037e-05\n",
      "Epoch 5/20\n",
      "10582/10582 [==============================] - 63s 6ms/step - loss: 1.8967e-05\n",
      "Epoch 6/20\n",
      "10582/10582 [==============================] - 63s 6ms/step - loss: 1.7877e-05\n",
      "Epoch 7/20\n",
      "10582/10582 [==============================] - 64s 6ms/step - loss: 1.6688e-05\n",
      "Epoch 8/20\n",
      "10582/10582 [==============================] - 67s 6ms/step - loss: 1.5740e-05\n",
      "Epoch 9/20\n",
      "10582/10582 [==============================] - 67s 6ms/step - loss: 1.4671e-05\n",
      "Epoch 10/20\n",
      "10582/10582 [==============================] - 63s 6ms/step - loss: 1.3843e-05\n",
      "Epoch 11/20\n",
      "10582/10582 [==============================] - 71s 7ms/step - loss: 1.3616e-05\n",
      "Epoch 12/20\n",
      "10582/10582 [==============================] - 64s 6ms/step - loss: 1.2601e-05\n",
      "Epoch 13/20\n",
      "10582/10582 [==============================] - 71s 7ms/step - loss: 1.3055e-05\n",
      "Epoch 14/20\n",
      "10582/10582 [==============================] - 65s 6ms/step - loss: 1.2942e-05\n",
      "Epoch 15/20\n",
      "10582/10582 [==============================] - 66s 6ms/step - loss: 1.2645e-05\n",
      "Epoch 16/20\n",
      "10582/10582 [==============================] - 66s 6ms/step - loss: 1.2534e-05\n",
      "Epoch 17/20\n",
      "10582/10582 [==============================] - 68s 6ms/step - loss: 1.3042e-05\n",
      "Epoch 18/20\n",
      "10582/10582 [==============================] - 67s 6ms/step - loss: 1.2605e-05\n",
      "Epoch 19/20\n",
      "10582/10582 [==============================] - 64s 6ms/step - loss: 1.2437e-05\n",
      "Epoch 20/20\n",
      "10582/10582 [==============================] - 64s 6ms/step - loss: 1.2467e-05\n"
     ]
    },
    {
     "data": {
      "text/plain": [
       "<keras.callbacks.History at 0x1d1cd40fe48>"
      ]
     },
     "execution_count": 76,
     "metadata": {},
     "output_type": "execute_result"
    }
   ],
   "source": [
    "# Create and fit LSTM network\n",
    "lag=1\n",
    "np.random.seed(7)\n",
    "model = Sequential()\n",
    "model.add(LSTM(4, input_shape=(1, lag))) # 4 neurons\n",
    "model.add(Dense(1)) # 1 layer\n",
    "model.compile(loss='mean_squared_error', optimizer='adam')\n",
    "model.fit(X_train, y_train, epochs=20, batch_size=1, verbose=1)"
   ]
  },
  {
   "cell_type": "code",
   "execution_count": 77,
   "metadata": {},
   "outputs": [
    {
     "name": "stdout",
     "output_type": "stream",
     "text": [
      "10582 4535\n",
      "10582 4535\n"
     ]
    }
   ],
   "source": [
    "# Predict with model\n",
    "trainPredict = model.predict(X_train)\n",
    "testPredict = model.predict(X_test)\n",
    "print(len(X_train),len(X_test))\n",
    "print(len(trainPredict),len(testPredict))"
   ]
  },
  {
   "cell_type": "code",
   "execution_count": 78,
   "metadata": {},
   "outputs": [],
   "source": [
    "# Inverse the transformations\n",
    "y_train = mms.inverse_transform(y_train)\n",
    "y_test = mms.inverse_transform(y_test)\n",
    "testPredict = mms.inverse_transform(testPredict)\n",
    "trainPredict = mms.inverse_transform(trainPredict)"
   ]
  },
  {
   "cell_type": "code",
   "execution_count": 79,
   "metadata": {},
   "outputs": [
    {
     "data": {
      "text/plain": [
       "15117"
      ]
     },
     "execution_count": 79,
     "metadata": {},
     "output_type": "execute_result"
    }
   ],
   "source": [
    "# adjust non-stationary data (due to lag values)\n",
    "nonsta_adj = pd.concat([data_nonsta[['adj_close']][0:train_size][:-lag],data_nonsta[['adj_close']][train_size:][:-lag]],axis=0)\n",
    "len(nonsta_adj)"
   ]
  },
  {
   "cell_type": "code",
   "execution_count": 80,
   "metadata": {},
   "outputs": [
    {
     "data": {
      "text/plain": [
       "(15117, 15117)"
      ]
     },
     "execution_count": 80,
     "metadata": {},
     "output_type": "execute_result"
    }
   ],
   "source": [
    "# Shift train predictions for plotting\n",
    "trainPredictPlot = np.empty_like(nonsta_adj) # Return a new empty array with same shape and type as given array\n",
    "trainPredictPlot[:, :] = np.nan\n",
    "trainPredictPlot[0:train_size-lag, :] = trainPredict\n",
    "\n",
    "# Shift test predictions for plotting\n",
    "testPredictPlot = np.empty_like(nonsta_adj)\n",
    "testPredictPlot[:, :] = np.nan\n",
    "testPredictPlot[train_size-lag:, :] = testPredict\n",
    "\n",
    "# Creating the plots\n",
    "trainPredictPlot = pd.DataFrame(trainPredictPlot,columns=['trainPredict'])\n",
    "trainPredictPlot.index=nonsta_adj.index\n",
    "\n",
    "testPredictPlot = pd.DataFrame(testPredictPlot,columns=['testPredict'])\n",
    "testPredictPlot.index=nonsta_adj.index\n",
    "\n",
    "plot_nonsta= pd.concat([nonsta_adj,pd.DataFrame(trainPredictPlot),pd.DataFrame(testPredictPlot)],axis=1)\n",
    "len(trainPredictPlot),len(testPredictPlot)"
   ]
  },
  {
   "cell_type": "code",
   "execution_count": 81,
   "metadata": {},
   "outputs": [
    {
     "data": {
      "image/png": "[encoded data removed]",
      "text/plain": [
       "<Figure size 1008x504 with 1 Axes>"
      ]
     },
     "metadata": {
      "needs_background": "light"
     },
     "output_type": "display_data"
    },
    {
     "name": "stdout",
     "output_type": "stream",
     "text": [
      "Train Score for LSTM: 3.41 RMSE\n",
      "Test Score for LSTM: 27.99 RMSE\n"
     ]
    }
   ],
   "source": [
    "# Plot baseline and predictions\n",
    "plt.figure(figsize=(14,7))\n",
    "plt.plot(plot_nonsta)\n",
    "plt.legend(['actual daily level','trainset prediction','testset prediction'])\n",
    "plt.title('LSTM prediction (non-stationary data)')\n",
    "plt.show()\n",
    "\n",
    "# Calculate RMSE\n",
    "from sklearn.metrics import mean_squared_error\n",
    "trainScore = np.sqrt(mean_squared_error(y_train, trainPredict))\n",
    "print('Train Score for LSTM: %.2f RMSE' % (trainScore))\n",
    "testScore = np.sqrt(mean_squared_error(y_test, testPredict))\n",
    "print('Test Score for LSTM: %.2f RMSE' % (testScore))"
   ]
  },
  {
   "cell_type": "code",
   "execution_count": 82,
   "metadata": {},
   "outputs": [
    {
     "data": {
      "image/png": "[encoded data removed]",
      "text/plain": [
       "<Figure size 1008x504 with 1 Axes>"
      ]
     },
     "metadata": {
      "needs_background": "light"
     },
     "output_type": "display_data"
    }
   ],
   "source": [
    "# Plot actual data vs train data for a closer look\n",
    "plot_test=plot_nonsta.drop('trainPredict',axis=1)\n",
    "plot_test.dropna(axis=0,inplace=True)\n",
    "plt.figure(figsize=(14,7))\n",
    "plt.plot(plot_test)\n",
    "plt.legend(['actual daily level','testset prediction'])\n",
    "plt.title('LSTM prediction - testset only')\n",
    "plt.show()"
   ]
  }
 ],
 "metadata": {
  "kernelspec": {
   "display_name": "Python 3",
   "language": "python",
   "name": "python3"
  },
  "language_info": {
   "codemirror_mode": {
    "name": "ipython",
    "version": 3
   },
   "file_extension": ".py",
   "mimetype": "text/x-python",
   "name": "python",
   "nbconvert_exporter": "python",
   "pygments_lexer": "ipython3",
   "version": "3.6.8"
  }
 },
 "nbformat": 4,
 "nbformat_minor": 2
}
